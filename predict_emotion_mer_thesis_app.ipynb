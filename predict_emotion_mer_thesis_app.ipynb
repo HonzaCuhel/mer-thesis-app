{
  "nbformat": 4,
  "nbformat_minor": 0,
  "metadata": {
    "colab": {
      "name": "predict_emotion_mer_thesis_app.ipynb",
      "provenance": [],
      "collapsed_sections": [],
      "toc_visible": true,
      "authorship_tag": "ABX9TyPqwmsvC8+GoH9gXto2c7n2"
    },
    "kernelspec": {
      "name": "python3",
      "display_name": "Python 3"
    }
  },
  "cells": [
    {
      "cell_type": "markdown",
      "metadata": {
        "id": "coKAZLXvspj9"
      },
      "source": [
        "# Multimodal Speech Emotion Recognition - Demo app\n",
        "<hr/>\n",
        "<b>Description:</b> This notebook contains a demo application of  Emotion Recognition models trained on the IEMOCAP dataset using 4 basic emotions.<br/>\n",
        "<b>Model Architecture:</b> Electra small (TER), TRILL (SER), YAMNet (SER), Electra + TRILL (MER), Electra + YAMNet (MER)<br/>\n",
        "<b>Author:</b> Jan Čuhel<br/>\n",
        "<b>Date:</b> 3.5.2021<br/>\n",
        "<b>Dataset:</b> <a href='https://usc.edu/iemocap/'>IEMOCAP</a><br/>\n",
        "<b>Emotions:</b> Basic - [happy + excited, sad, angry, neutral]<br/>"
      ]
    },
    {
      "cell_type": "markdown",
      "metadata": {
        "id": "DHBgi40Tycgh"
      },
      "source": [
        "\n",
        "###Resources \n",
        "- https://ricardodeazambuja.com/deep_learning/2019/03/09/audio_and_video_google_colab/\n",
        "- https://stackoverflow.com/questions/9031783/hide-all-warnings-in-ipython\n",
        "- https://getemoji.com/\n",
        "- https://realpython.com/python-speech-recognition/\n",
        "- https://github.com/Uberi/speech_recognition#readme\n",
        "- https://www.howtogeek.com/423214/how-to-use-the-rename-command-on-linux/"
      ]
    },
    {
      "cell_type": "markdown",
      "metadata": {
        "id": "vj-Bbk2DyK1-"
      },
      "source": [
        "## Code preparation\n",
        "### Please run this code cell (`Shift + Enter`)\n",
        "\n",
        "What this does:\n",
        "\n",
        "1.   Installs the required Python packages\n",
        "2.   Clones a Github repository containing classes for Emotion Recognition models\n",
        "3.   Downloads the trained saved models\n",
        "4.   Moves the downloaded trained saved models\n"
      ]
    },
    {
      "cell_type": "code",
      "metadata": {
        "colab": {
          "base_uri": "https://localhost:8080/"
        },
        "id": "ktVYqO43jrPs",
        "outputId": "19c794f3-4e4d-48f8-876b-ce82188de641"
      },
      "source": [
        "# Step 1) Installation\n",
        "!pip install -q ffmpeg-python SpeechRecognition gTTS pydub librosa tensorflow-text\n",
        "\n",
        "# Step 2) Connect to GitHub\n",
        "!git clone https://github.com/HonzaCuhel/mer-thesis-app\n",
        "\n",
        "# Step 3) Download the models\n",
        "!wget 'https://alquist2021-data.s3.amazonaws.com/public/mer_electra_yamnet_iemocap_model+(1).h5'\n",
        "!wget 'https://alquist2021-data.s3.amazonaws.com/public/mer_trill_electra_small_model.h5'\n",
        "!wget 'https://alquist2021-data.s3.amazonaws.com/public/ter_electra_iemocap_model+(1).h5'\n",
        "!wget 'https://alquist2021-data.s3.amazonaws.com/public/ter_electra_model_psychexp.h5'\n",
        "\n",
        "# Step 4) Moves the models\n",
        "!mv '/content/mer_electra_yamnet_iemocap_model+(1).h5' /content/mer-thesis-app/result_models/mer_electra_yamnet_iemocap_model.h5\n",
        "!mv '/content/mer_trill_electra_small_model.h5' /content/mer-thesis-app/result_models/mer_trill_electra_small_model.h5\n",
        "!mv '/content/ter_electra_iemocap_model+(1).h5' /content/mer-thesis-app/result_models/ter_electra_iemocap_model.h5\n",
        "!mv '/content/ter_electra_model_psychexp.h5' /content/mer-thesis-app/result_models/ter_electra_model_psychexp.h5"
      ],
      "execution_count": 1,
      "outputs": [
        {
          "output_type": "stream",
          "text": [
            "\u001b[K     |████████████████████████████████| 32.8MB 120kB/s \n",
            "\u001b[K     |████████████████████████████████| 3.4MB 61.6MB/s \n",
            "\u001b[?25hCloning into 'mer-thesis-app'...\n",
            "remote: Enumerating objects: 22, done.\u001b[K\n",
            "remote: Total 22 (delta 0), reused 0 (delta 0), pack-reused 22\u001b[K\n",
            "Unpacking objects: 100% (22/22), done.\n",
            "--2021-05-04 09:23:27--  https://alquist2021-data.s3.amazonaws.com/public/mer_electra_yamnet_iemocap_model+(1).h5\n",
            "Resolving alquist2021-data.s3.amazonaws.com (alquist2021-data.s3.amazonaws.com)... 52.216.95.107\n",
            "Connecting to alquist2021-data.s3.amazonaws.com (alquist2021-data.s3.amazonaws.com)|52.216.95.107|:443... connected.\n",
            "HTTP request sent, awaiting response... 200 OK\n",
            "Length: 187908296 (179M) [application/x-www-form-urlencoded]\n",
            "Saving to: ‘mer_electra_yamnet_iemocap_model+(1).h5’\n",
            "\n",
            "mer_electra_yamnet_ 100%[===================>] 179.20M  33.9MB/s    in 5.9s    \n",
            "\n",
            "2021-05-04 09:23:33 (30.4 MB/s) - ‘mer_electra_yamnet_iemocap_model+(1).h5’ saved [187908296/187908296]\n",
            "\n",
            "--2021-05-04 09:23:33--  https://alquist2021-data.s3.amazonaws.com/public/mer_trill_electra_small_model.h5\n",
            "Resolving alquist2021-data.s3.amazonaws.com (alquist2021-data.s3.amazonaws.com)... 52.216.128.115\n",
            "Connecting to alquist2021-data.s3.amazonaws.com (alquist2021-data.s3.amazonaws.com)|52.216.128.115|:443... connected.\n",
            "HTTP request sent, awaiting response... 200 OK\n",
            "Length: 205251808 (196M) [application/x-www-form-urlencoded]\n",
            "Saving to: ‘mer_trill_electra_small_model.h5’\n",
            "\n",
            "mer_trill_electra_s 100%[===================>] 195.74M  32.5MB/s    in 7.2s    \n",
            "\n",
            "2021-05-04 09:23:41 (27.3 MB/s) - ‘mer_trill_electra_small_model.h5’ saved [205251808/205251808]\n",
            "\n",
            "--2021-05-04 09:23:41--  https://alquist2021-data.s3.amazonaws.com/public/ter_electra_iemocap_model+(1).h5\n",
            "Resolving alquist2021-data.s3.amazonaws.com (alquist2021-data.s3.amazonaws.com)... 52.217.160.49\n",
            "Connecting to alquist2021-data.s3.amazonaws.com (alquist2021-data.s3.amazonaws.com)|52.217.160.49|:443... connected.\n",
            "HTTP request sent, awaiting response... 200 OK\n",
            "Length: 163806904 (156M) [application/x-www-form-urlencoded]\n",
            "Saving to: ‘ter_electra_iemocap_model+(1).h5’\n",
            "\n",
            "ter_electra_iemocap 100%[===================>] 156.22M  34.1MB/s    in 5.2s    \n",
            "\n",
            "2021-05-04 09:23:47 (30.1 MB/s) - ‘ter_electra_iemocap_model+(1).h5’ saved [163806904/163806904]\n",
            "\n",
            "--2021-05-04 09:23:47--  https://alquist2021-data.s3.amazonaws.com/public/ter_electra_model_psychexp.h5\n",
            "Resolving alquist2021-data.s3.amazonaws.com (alquist2021-data.s3.amazonaws.com)... 52.216.129.35\n",
            "Connecting to alquist2021-data.s3.amazonaws.com (alquist2021-data.s3.amazonaws.com)|52.216.129.35|:443... connected.\n",
            "HTTP request sent, awaiting response... 200 OK\n",
            "Length: 163809616 (156M) [application/x-www-form-urlencoded]\n",
            "Saving to: ‘ter_electra_model_psychexp.h5’\n",
            "\n",
            "ter_electra_model_p 100%[===================>] 156.22M  32.8MB/s    in 5.5s    \n",
            "\n",
            "2021-05-04 09:23:53 (28.5 MB/s) - ‘ter_electra_model_psychexp.h5’ saved [163809616/163809616]\n",
            "\n"
          ],
          "name": "stdout"
        }
      ]
    },
    {
      "cell_type": "markdown",
      "metadata": {
        "id": "A17BHwScB7DF"
      },
      "source": [
        "## Code definition\n",
        "### Please run this code cell (`Shift + Enter`) as well\n",
        "\n",
        "What this does:\n",
        "\n",
        "1.   Imports the required packeges\n",
        "2.   Defines some constants\n",
        "3.   Load the trained models\n",
        "4.   Defines functions for Emotion Recognition"
      ]
    },
    {
      "cell_type": "code",
      "metadata": {
        "id": "n00MeETqutfK",
        "colab": {
          "base_uri": "https://localhost:8080/"
        },
        "outputId": "d72e3e49-058e-49cd-8c6d-3d4858fa2754"
      },
      "source": [
        "# Step 1) Imports\n",
        "import sys\n",
        "import gtts\n",
        "import os\n",
        "import IPython.display as display\n",
        "import matplotlib.pyplot as plt\n",
        "import librosa\n",
        "import speech_recognition as sr\n",
        "\n",
        "import warnings\n",
        "warnings.filterwarnings('ignore')\n",
        "\n",
        "sys.path.append('/content/mer-thesis-app/')\n",
        "from record_audio import get_audio\n",
        "from predict_emotion_tf import *\n",
        "\n",
        "\n",
        "# Step 2) Defining constants\n",
        "lang = 'en'\n",
        "dur = 11\n",
        "emoji_dict = {\"happy\":\"😊\", \"fear\":\"😱\", \"angry\":\"😡\", \"sad\":\"😢\", \"disgust\":\"🤮\", \"shame\":\"😳\", \"guilt\":\"😓\", \"neutral\": \"😐\"}\n",
        "NO = 'no'\n",
        "DEFAULT_SAMPLE_RATE = 16000\n",
        "output_file = 'output_emotion.mp3'\n",
        "\n",
        "# Step 3) Model loading\n",
        "print('Models are being loaded, it will take some time...')\n",
        "\n",
        "ser_trill_model_iemocap = TRILLSERModel(SER_TRILL_MODEL_IEMOCAP, TRILL_URL, emotions_iemocap, input_length_iemocap, SAMPLING_RATE)\n",
        "ser_trill_model_ravdess = TRILLSERModel(SER_TRILL_MODEL_RAVDESS, TRILL_URL, emotions_ravdess, input_length_ravdess, SAMPLING_RATE)\n",
        "mer_electra_trill_model_iemocap = ElectraTRILLMERModel(MER_ELECTRA_TRILL, TRILL_URL, emotions_iemocap, input_length_iemocap, SAMPLING_RATE)\n",
        "\n",
        "ser_yamnet_model_iemocap = YAMNetSERModel(SER_YAMNET_MODEL_IEMOCAP, YAMNET_URL, emotions_iemocap, input_length_iemocap, SAMPLING_RATE)\n",
        "ser_yamnet_model_ravdess = YAMNetSERModel(SER_YAMNET_MODEL_RAVDESS, YAMNET_URL, emotions_ravdess, input_length_ravdess, SAMPLING_RATE)\n",
        "mer_electra_yamnet_model_iemocap = ElectraYAMNetMERModel(MER_ELECTRA_YAMNET, YAMNET_URL, emotions_iemocap, input_length_iemocap, SAMPLING_RATE)\n",
        "\n",
        "ter_electra_model_iemocap = TERModel(TER_ELECTRA_IEMOCAP, emotions_iemocap)\n",
        "ter_electra_model_psychexp = TERModel(TER_ELECTRA_PSYCHEXP, emotion_psychexp)\n",
        "\n",
        "print('Models are loaded!')\n",
        "\n",
        "# Step 4) Definition of functions\n",
        "def get_transription(audio_file):\n",
        "  # use the audio file as the audio source\n",
        "  r = sr.Recognizer()\n",
        "  with sr.AudioFile(audio_file) as source:\n",
        "      audio = r.record(source, duration=dur)  # read the entire audio file\n",
        "  \n",
        "  # Resource: https://github.com/Uberi/speech_recognition/blob/master/examples/audio_transcribe.py\n",
        "  # Recognize speech using Google Speech Recognition\n",
        "  try:\n",
        "      text = r.recognize_google(audio, language=lang)\n",
        "  except sr.UnknownValueError:\n",
        "      print(\"Google Speech Recognition could not understand audio\")\n",
        "      return \"\"\n",
        "  except sr.RequestError as e:\n",
        "      print(\"Could not request results from Google Speech Recognition service; {0}\".format(e))\n",
        "      return \"\"\n",
        "  \n",
        "  return text\n",
        "\n",
        "def predict_emotion(audio_file):\n",
        "  print('Welcome to the Multimodal Speech Emotion Recognizer app from audio and text!')\n",
        "  print('-'*80)\n",
        "  print('Help:')\n",
        "  print(' - record a speech and the program will recognize your emotion')\n",
        "  # print(f' - to end the program type \"{NO}\"')\n",
        "\n",
        "  print('Recognizing emotion...')\n",
        "  # Recognize the emotion\n",
        "  text = get_transription(audio_file)\n",
        "\n",
        "  # TRILL predictions\n",
        "  ser_trill_iemocap = ser_trill_model_iemocap.predict_emotion(audio_file)\n",
        "  ser_trill_ravdess = ser_trill_model_ravdess.predict_emotion(audio_file)\n",
        "  mer_trill_electra = mer_electra_trill_model_iemocap.predict_emotion(text, audio_file)\n",
        "\n",
        "  # Yamnet predictions\n",
        "  mer_yamnet_electra = ser_yamnet_model_iemocap.predict_emotion(audio_file)\n",
        "  ser_yamnet_iemocap = ser_yamnet_model_ravdess.predict_emotion(audio_file)\n",
        "  ser_yamnet_ravdess = mer_electra_yamnet_model_iemocap.predict_emotion(text, audio_file)\n",
        "\n",
        "  # TER Electra predictions\n",
        "  ter_electra_iemocap = ter_electra_model_iemocap.predict_emotion(text)\n",
        "  ter_electra_psychexp = ter_electra_model_psychexp.predict_emotion(text)\n",
        "\n",
        "  print('\\n' + '='*60)\n",
        "  print(f'\\nYou\\'ve said: {text}.\\n')\n",
        "  print(\"Audio's waveform:\")\n",
        "  plt.figure(figsize=(10,5))\n",
        "  plt.plot(librosa.load(audio_file)[0])\n",
        "  plt.title('Audio\\'s waveform')\n",
        "  plt.show()\n",
        "  print('='*60)\n",
        "  print(\"Predictions:\")\n",
        "  print('-'*40)\n",
        "  print('TRILL models:')\n",
        "  print(f'MER Electra TRILL (IEMOCAP): {mer_trill_electra}')\n",
        "  print(f'SER TRILL (IEMOCAP): {ser_trill_iemocap}')\n",
        "  print(f'SER TRILL (RAVDESS): {ser_trill_ravdess}')\n",
        "  print('-'*40)\n",
        "  print('YAMNET models:')\n",
        "  print(f'MER Electra YAMNet (IEMOCAP): {mer_yamnet_electra}')\n",
        "  print(f'SER YAMNet (IEMOCAP): {ser_yamnet_iemocap}')\n",
        "  print(f'SER YAMNet (RAVDESS): {ser_yamnet_ravdess}')\n",
        "  print('-'*40)\n",
        "  print('Only text - Electra small')\n",
        "  print(f'TER Electra small (IEMOCAP): {ter_electra_iemocap}')\n",
        "  print(f'TER Electra small (RAVDESS): {ter_electra_psychexp}')\n",
        "  print('='*60)\n",
        "\n",
        "  return mer_trill_electra"
      ],
      "execution_count": 2,
      "outputs": [
        {
          "output_type": "stream",
          "text": [
            "Models are being loaded, it will take some time...\n",
            "WARNING:tensorflow:5 out of the last 5 calls to <function recreate_function.<locals>.restored_function_body at 0x7f568c87c4d0> triggered tf.function retracing. Tracing is expensive and the excessive number of tracings could be due to (1) creating @tf.function repeatedly in a loop, (2) passing tensors with different shapes, (3) passing Python objects instead of tensors. For (1), please define your @tf.function outside of the loop. For (2), @tf.function has experimental_relax_shapes=True option that relaxes argument shapes that can avoid unnecessary retracing. For (3), please refer to https://www.tensorflow.org/guide/function#controlling_retracing and https://www.tensorflow.org/api_docs/python/tf/function for  more details.\n"
          ],
          "name": "stdout"
        },
        {
          "output_type": "stream",
          "text": [
            "WARNING:tensorflow:5 out of the last 5 calls to <function recreate_function.<locals>.restored_function_body at 0x7f568c87c4d0> triggered tf.function retracing. Tracing is expensive and the excessive number of tracings could be due to (1) creating @tf.function repeatedly in a loop, (2) passing tensors with different shapes, (3) passing Python objects instead of tensors. For (1), please define your @tf.function outside of the loop. For (2), @tf.function has experimental_relax_shapes=True option that relaxes argument shapes that can avoid unnecessary retracing. For (3), please refer to https://www.tensorflow.org/guide/function#controlling_retracing and https://www.tensorflow.org/api_docs/python/tf/function for  more details.\n"
          ],
          "name": "stderr"
        },
        {
          "output_type": "stream",
          "text": [
            "WARNING:tensorflow:6 out of the last 6 calls to <function recreate_function.<locals>.restored_function_body at 0x7f568689ed40> triggered tf.function retracing. Tracing is expensive and the excessive number of tracings could be due to (1) creating @tf.function repeatedly in a loop, (2) passing tensors with different shapes, (3) passing Python objects instead of tensors. For (1), please define your @tf.function outside of the loop. For (2), @tf.function has experimental_relax_shapes=True option that relaxes argument shapes that can avoid unnecessary retracing. For (3), please refer to https://www.tensorflow.org/guide/function#controlling_retracing and https://www.tensorflow.org/api_docs/python/tf/function for  more details.\n"
          ],
          "name": "stdout"
        },
        {
          "output_type": "stream",
          "text": [
            "WARNING:tensorflow:6 out of the last 6 calls to <function recreate_function.<locals>.restored_function_body at 0x7f568689ed40> triggered tf.function retracing. Tracing is expensive and the excessive number of tracings could be due to (1) creating @tf.function repeatedly in a loop, (2) passing tensors with different shapes, (3) passing Python objects instead of tensors. For (1), please define your @tf.function outside of the loop. For (2), @tf.function has experimental_relax_shapes=True option that relaxes argument shapes that can avoid unnecessary retracing. For (3), please refer to https://www.tensorflow.org/guide/function#controlling_retracing and https://www.tensorflow.org/api_docs/python/tf/function for  more details.\n"
          ],
          "name": "stderr"
        },
        {
          "output_type": "stream",
          "text": [
            "WARNING:tensorflow:7 out of the last 7 calls to <function recreate_function.<locals>.restored_function_body at 0x7f568689e3b0> triggered tf.function retracing. Tracing is expensive and the excessive number of tracings could be due to (1) creating @tf.function repeatedly in a loop, (2) passing tensors with different shapes, (3) passing Python objects instead of tensors. For (1), please define your @tf.function outside of the loop. For (2), @tf.function has experimental_relax_shapes=True option that relaxes argument shapes that can avoid unnecessary retracing. For (3), please refer to https://www.tensorflow.org/guide/function#controlling_retracing and https://www.tensorflow.org/api_docs/python/tf/function for  more details.\n"
          ],
          "name": "stdout"
        },
        {
          "output_type": "stream",
          "text": [
            "WARNING:tensorflow:7 out of the last 7 calls to <function recreate_function.<locals>.restored_function_body at 0x7f568689e3b0> triggered tf.function retracing. Tracing is expensive and the excessive number of tracings could be due to (1) creating @tf.function repeatedly in a loop, (2) passing tensors with different shapes, (3) passing Python objects instead of tensors. For (1), please define your @tf.function outside of the loop. For (2), @tf.function has experimental_relax_shapes=True option that relaxes argument shapes that can avoid unnecessary retracing. For (3), please refer to https://www.tensorflow.org/guide/function#controlling_retracing and https://www.tensorflow.org/api_docs/python/tf/function for  more details.\n"
          ],
          "name": "stderr"
        },
        {
          "output_type": "stream",
          "text": [
            "WARNING:tensorflow:8 out of the last 8 calls to <function recreate_function.<locals>.restored_function_body at 0x7f567f6ee830> triggered tf.function retracing. Tracing is expensive and the excessive number of tracings could be due to (1) creating @tf.function repeatedly in a loop, (2) passing tensors with different shapes, (3) passing Python objects instead of tensors. For (1), please define your @tf.function outside of the loop. For (2), @tf.function has experimental_relax_shapes=True option that relaxes argument shapes that can avoid unnecessary retracing. For (3), please refer to https://www.tensorflow.org/guide/function#controlling_retracing and https://www.tensorflow.org/api_docs/python/tf/function for  more details.\n"
          ],
          "name": "stdout"
        },
        {
          "output_type": "stream",
          "text": [
            "WARNING:tensorflow:8 out of the last 8 calls to <function recreate_function.<locals>.restored_function_body at 0x7f567f6ee830> triggered tf.function retracing. Tracing is expensive and the excessive number of tracings could be due to (1) creating @tf.function repeatedly in a loop, (2) passing tensors with different shapes, (3) passing Python objects instead of tensors. For (1), please define your @tf.function outside of the loop. For (2), @tf.function has experimental_relax_shapes=True option that relaxes argument shapes that can avoid unnecessary retracing. For (3), please refer to https://www.tensorflow.org/guide/function#controlling_retracing and https://www.tensorflow.org/api_docs/python/tf/function for  more details.\n"
          ],
          "name": "stderr"
        },
        {
          "output_type": "stream",
          "text": [
            "WARNING:tensorflow:9 out of the last 9 calls to <function recreate_function.<locals>.restored_function_body at 0x7f567f6ee050> triggered tf.function retracing. Tracing is expensive and the excessive number of tracings could be due to (1) creating @tf.function repeatedly in a loop, (2) passing tensors with different shapes, (3) passing Python objects instead of tensors. For (1), please define your @tf.function outside of the loop. For (2), @tf.function has experimental_relax_shapes=True option that relaxes argument shapes that can avoid unnecessary retracing. For (3), please refer to https://www.tensorflow.org/guide/function#controlling_retracing and https://www.tensorflow.org/api_docs/python/tf/function for  more details.\n"
          ],
          "name": "stdout"
        },
        {
          "output_type": "stream",
          "text": [
            "WARNING:tensorflow:9 out of the last 9 calls to <function recreate_function.<locals>.restored_function_body at 0x7f567f6ee050> triggered tf.function retracing. Tracing is expensive and the excessive number of tracings could be due to (1) creating @tf.function repeatedly in a loop, (2) passing tensors with different shapes, (3) passing Python objects instead of tensors. For (1), please define your @tf.function outside of the loop. For (2), @tf.function has experimental_relax_shapes=True option that relaxes argument shapes that can avoid unnecessary retracing. For (3), please refer to https://www.tensorflow.org/guide/function#controlling_retracing and https://www.tensorflow.org/api_docs/python/tf/function for  more details.\n"
          ],
          "name": "stderr"
        },
        {
          "output_type": "stream",
          "text": [
            "WARNING:tensorflow:10 out of the last 10 calls to <function recreate_function.<locals>.restored_function_body at 0x7f567ab3a440> triggered tf.function retracing. Tracing is expensive and the excessive number of tracings could be due to (1) creating @tf.function repeatedly in a loop, (2) passing tensors with different shapes, (3) passing Python objects instead of tensors. For (1), please define your @tf.function outside of the loop. For (2), @tf.function has experimental_relax_shapes=True option that relaxes argument shapes that can avoid unnecessary retracing. For (3), please refer to https://www.tensorflow.org/guide/function#controlling_retracing and https://www.tensorflow.org/api_docs/python/tf/function for  more details.\n"
          ],
          "name": "stdout"
        },
        {
          "output_type": "stream",
          "text": [
            "WARNING:tensorflow:10 out of the last 10 calls to <function recreate_function.<locals>.restored_function_body at 0x7f567ab3a440> triggered tf.function retracing. Tracing is expensive and the excessive number of tracings could be due to (1) creating @tf.function repeatedly in a loop, (2) passing tensors with different shapes, (3) passing Python objects instead of tensors. For (1), please define your @tf.function outside of the loop. For (2), @tf.function has experimental_relax_shapes=True option that relaxes argument shapes that can avoid unnecessary retracing. For (3), please refer to https://www.tensorflow.org/guide/function#controlling_retracing and https://www.tensorflow.org/api_docs/python/tf/function for  more details.\n"
          ],
          "name": "stderr"
        },
        {
          "output_type": "stream",
          "text": [
            "WARNING:tensorflow:11 out of the last 11 calls to <function recreate_function.<locals>.restored_function_body at 0x7f567acdd290> triggered tf.function retracing. Tracing is expensive and the excessive number of tracings could be due to (1) creating @tf.function repeatedly in a loop, (2) passing tensors with different shapes, (3) passing Python objects instead of tensors. For (1), please define your @tf.function outside of the loop. For (2), @tf.function has experimental_relax_shapes=True option that relaxes argument shapes that can avoid unnecessary retracing. For (3), please refer to https://www.tensorflow.org/guide/function#controlling_retracing and https://www.tensorflow.org/api_docs/python/tf/function for  more details.\n"
          ],
          "name": "stdout"
        },
        {
          "output_type": "stream",
          "text": [
            "WARNING:tensorflow:11 out of the last 11 calls to <function recreate_function.<locals>.restored_function_body at 0x7f567acdd290> triggered tf.function retracing. Tracing is expensive and the excessive number of tracings could be due to (1) creating @tf.function repeatedly in a loop, (2) passing tensors with different shapes, (3) passing Python objects instead of tensors. For (1), please define your @tf.function outside of the loop. For (2), @tf.function has experimental_relax_shapes=True option that relaxes argument shapes that can avoid unnecessary retracing. For (3), please refer to https://www.tensorflow.org/guide/function#controlling_retracing and https://www.tensorflow.org/api_docs/python/tf/function for  more details.\n"
          ],
          "name": "stderr"
        },
        {
          "output_type": "stream",
          "text": [
            "Models are loaded!\n"
          ],
          "name": "stdout"
        }
      ]
    },
    {
      "cell_type": "markdown",
      "metadata": {
        "id": "ETpnzv33QOzP"
      },
      "source": [
        "### Record a speech\n",
        "\n",
        "Here you can record a sample of your speach. To record just execute the next cell by either hitting the `run` button or by clicking inside of the cell and then type `Shift + Enter`. After you've sad something click on the button `Stop recording` to stop recording. \n",
        "\n",
        "<b>WARNING: ONLY 11 SECONDS OF YOUR SPEECH WILL BE USED, SO IF YOU WILL SPEAK LONGER THE AUDIO FILE WILL BE TRUNCATED, IF YOU WILL SPEAK LESS, IT IS FIME, THE AUDIO RECORDING WILL BE PADDED.</b>"
      ]
    },
    {
      "cell_type": "code",
      "metadata": {
        "colab": {
          "base_uri": "https://localhost:8080/",
          "height": 113
        },
        "id": "RPTSXUW9u3Ak",
        "outputId": "eedfb668-03a7-4622-9ec4-a5a8a7896e17"
      },
      "source": [
        "audio, sample_rate, audio_file = get_audio()\n",
        "\n",
        "print('Speech recorded!')"
      ],
      "execution_count": 15,
      "outputs": [
        {
          "output_type": "display_data",
          "data": {
            "text/html": [
              "\n",
              "<script>\n",
              "var my_div = document.createElement(\"DIV\");\n",
              "var my_p = document.createElement(\"P\");\n",
              "var my_btn = document.createElement(\"BUTTON\");\n",
              "var t = document.createTextNode(\"Press to start recording\");\n",
              "\n",
              "my_btn.appendChild(t);\n",
              "//my_p.appendChild(my_btn);\n",
              "my_div.appendChild(my_btn);\n",
              "document.body.appendChild(my_div);\n",
              "\n",
              "var base64data = 0;\n",
              "var reader;\n",
              "var recorder, gumStream;\n",
              "var recordButton = my_btn;\n",
              "\n",
              "var handleSuccess = function(stream) {\n",
              "  gumStream = stream;\n",
              "  var options = {\n",
              "    //bitsPerSecond: 8000, //chrome seems to ignore, always 48k\n",
              "    mimeType : 'audio/webm;codecs=opus'\n",
              "    //mimeType : 'audio/webm;codecs=pcm'\n",
              "  };            \n",
              "  //recorder = new MediaRecorder(stream, options);\n",
              "  recorder = new MediaRecorder(stream);\n",
              "  recorder.ondataavailable = function(e) {            \n",
              "    var url = URL.createObjectURL(e.data);\n",
              "    var preview = document.createElement('audio');\n",
              "    preview.controls = true;\n",
              "    preview.src = url;\n",
              "    document.body.appendChild(preview);\n",
              "\n",
              "    reader = new FileReader();\n",
              "    reader.readAsDataURL(e.data); \n",
              "    reader.onloadend = function() {\n",
              "      base64data = reader.result;\n",
              "      //console.log(\"Inside FileReader:\" + base64data);\n",
              "    }\n",
              "  };\n",
              "  recorder.start();\n",
              "  };\n",
              "\n",
              "recordButton.innerText = \"Recording... press to stop\";\n",
              "\n",
              "navigator.mediaDevices.getUserMedia({audio: true}).then(handleSuccess);\n",
              "\n",
              "\n",
              "function toggleRecording() {\n",
              "  if (recorder && recorder.state == \"recording\") {\n",
              "      recorder.stop();\n",
              "      gumStream.getAudioTracks()[0].stop();\n",
              "      recordButton.innerText = \"Saving the recording... pls wait!\"\n",
              "  }\n",
              "}\n",
              "\n",
              "// https://stackoverflow.com/a/951057\n",
              "function sleep(ms) {\n",
              "  return new Promise(resolve => setTimeout(resolve, ms));\n",
              "}\n",
              "\n",
              "var data = new Promise(resolve=>{\n",
              "//recordButton.addEventListener(\"click\", toggleRecording);\n",
              "recordButton.onclick = ()=>{\n",
              "toggleRecording()\n",
              "\n",
              "sleep(2000).then(() => {\n",
              "  // wait 2000ms for the data to be available...\n",
              "  // ideally this should use something like await...\n",
              "  //console.log(\"Inside data:\" + base64data)\n",
              "  resolve(base64data.toString())\n",
              "});\n",
              "}\n",
              "});\n",
              "      \n",
              "</script>\n"
            ],
            "text/plain": [
              "<IPython.core.display.HTML object>"
            ]
          },
          "metadata": {
            "tags": []
          }
        },
        {
          "output_type": "stream",
          "text": [
            "Speech recorded!\n"
          ],
          "name": "stdout"
        }
      ]
    },
    {
      "cell_type": "markdown",
      "metadata": {
        "id": "AhbvAYwJP2Ym"
      },
      "source": [
        "#### Emotion recognition"
      ]
    },
    {
      "cell_type": "code",
      "metadata": {
        "colab": {
          "base_uri": "https://localhost:8080/",
          "height": 812
        },
        "id": "QJ7Fcv6WJx2A",
        "outputId": "526e5ef3-4209-4837-ea60-9b85543fbd3f"
      },
      "source": [
        "pred_emotion = predict_emotion(audio_file)"
      ],
      "execution_count": 16,
      "outputs": [
        {
          "output_type": "stream",
          "text": [
            "Welcome to the Multimodal Speech Emotion Recognizer app from audio and text!\n",
            "--------------------------------------------------------------------------------\n",
            "Help:\n",
            " - record a speech and the program will recognize your emotion\n",
            "Recognizing emotion...\n",
            "\n",
            "============================================================\n",
            "\n",
            "You've said: I love it.\n",
            "\n",
            "Audio's waveform:\n"
          ],
          "name": "stdout"
        },
        {
          "output_type": "display_data",
          "data": {
            "image/png": "[encoded data removed]",
            "text/plain": [
              "<Figure size 720x360 with 1 Axes>"
            ]
          },
          "metadata": {
            "tags": [],
            "needs_background": "light"
          }
        },
        {
          "output_type": "stream",
          "text": [
            "============================================================\n",
            "Predictions:\n",
            "----------------------------------------\n",
            "TRILL models:\n",
            "MER Electra TRILL (IEMOCAP): happy\n",
            "SER TRILL (IEMOCAP): happy\n",
            "SER TRILL (RAVDESS): surprised\n",
            "----------------------------------------\n",
            "YAMNET models:\n",
            "MER Electra YAMNet (IEMOCAP): neutral\n",
            "SER YAMNet (IEMOCAP): surprised\n",
            "SER YAMNet (RAVDESS): neutral\n",
            "----------------------------------------\n",
            "Only text - Electra small\n",
            "TER Electra small (IEMOCAP): happy\n",
            "TER Electra small (RAVDESS): joy\n",
            "============================================================\n"
          ],
          "name": "stdout"
        }
      ]
    },
    {
      "cell_type": "markdown",
      "metadata": {
        "id": "OEacJF59wbM4"
      },
      "source": [
        "### Audio uploading\n",
        "\n",
        "You can test out the models by uploading `.wav` audio files and the models will try to predict emotions from them. Try it! "
      ]
    },
    {
      "cell_type": "code",
      "metadata": {
        "id": "btlhd4b5wmjp",
        "colab": {
          "resources": {
            "http://localhost:8080/nbextensions/google.colab/files.js": {
              "data": "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",
              "ok": true,
              "headers": [
                [
                  "content-type",
                  "application/javascript"
                ]
              ],
              "status": 200,
              "status_text": ""
            }
          },
          "base_uri": "https://localhost:8080/",
          "height": 1000
        },
        "outputId": "a32d71a3-167d-4beb-a255-45dd1a0d0833"
      },
      "source": [
        "from google.colab import files\n",
        "\n",
        "# Upload files\n",
        "uploaded = files.upload()\n",
        "\n",
        "for uf in uploaded.keys():\n",
        "  if '.wav' in uf:\n",
        "    print('User uploaded file \"{name}\" with length {length} bytes'.format(\n",
        "        name=uf, length=len(uploaded[uf])))\n",
        "    \n",
        "    print('*'*80)\n",
        "    print(f'RESULTS FOR {uf}:')\n",
        "    # Predict the emotion\n",
        "    pred_emotion = predict_emotion(uf)\n",
        "    print('*'*80)"
      ],
      "execution_count": 18,
      "outputs": [
        {
          "output_type": "display_data",
          "data": {
            "text/html": [
              "\n",
              "     <input type=\"file\" id=\"files-e88b6d50-4f27-48ca-bf63-8bf5cf3882c6\" name=\"files[]\" multiple disabled\n",
              "        style=\"border:none\" />\n",
              "     <output id=\"result-e88b6d50-4f27-48ca-bf63-8bf5cf3882c6\">\n",
              "      Upload widget is only available when the cell has been executed in the\n",
              "      current browser session. Please rerun this cell to enable.\n",
              "      </output>\n",
              "      <script src=\"/nbextensions/google.colab/files.js\"></script> "
            ],
            "text/plain": [
              "<IPython.core.display.HTML object>"
            ]
          },
          "metadata": {
            "tags": []
          }
        },
        {
          "output_type": "stream",
          "text": [
            "Saving sad_example.wav to sad_example (1).wav\n",
            "Saving happy_example.wav to happy_example (1).wav\n",
            "User uploaded file \"sad_example.wav\" with length 121846 bytes\n",
            "********************************************************************************\n",
            "RESULTS FOR sad_example.wav:\n",
            "Welcome to the Multimodal Speech Emotion Recognizer app from audio and text!\n",
            "--------------------------------------------------------------------------------\n",
            "Help:\n",
            " - record a speech and the program will recognize your emotion\n",
            "Recognizing emotion...\n",
            "\n",
            "============================================================\n",
            "\n",
            "You've said: kids are talking by the door.\n",
            "\n",
            "Audio's waveform:\n"
          ],
          "name": "stdout"
        },
        {
          "output_type": "display_data",
          "data": {
            "image/png": "[encoded data removed]",
            "text/plain": [
              "<Figure size 720x360 with 1 Axes>"
            ]
          },
          "metadata": {
            "tags": [],
            "needs_background": "light"
          }
        },
        {
          "output_type": "stream",
          "text": [
            "============================================================\n",
            "Predictions:\n",
            "----------------------------------------\n",
            "TRILL models:\n",
            "MER Electra TRILL (IEMOCAP): happy\n",
            "SER TRILL (IEMOCAP): angry\n",
            "SER TRILL (RAVDESS): sad\n",
            "----------------------------------------\n",
            "YAMNET models:\n",
            "MER Electra YAMNet (IEMOCAP): neutral\n",
            "SER YAMNet (IEMOCAP): neutral\n",
            "SER YAMNet (RAVDESS): neutral\n",
            "----------------------------------------\n",
            "Only text - Electra small\n",
            "TER Electra small (IEMOCAP): happy\n",
            "TER Electra small (RAVDESS): disgust\n",
            "============================================================\n",
            "********************************************************************************\n",
            "User uploaded file \"happy_example.wav\" with length 112236 bytes\n",
            "********************************************************************************\n",
            "RESULTS FOR happy_example.wav:\n",
            "Welcome to the Multimodal Speech Emotion Recognizer app from audio and text!\n",
            "--------------------------------------------------------------------------------\n",
            "Help:\n",
            " - record a speech and the program will recognize your emotion\n",
            "Recognizing emotion...\n",
            "\n",
            "============================================================\n",
            "\n",
            "You've said: dogs are sitting by the door.\n",
            "\n",
            "Audio's waveform:\n"
          ],
          "name": "stdout"
        },
        {
          "output_type": "display_data",
          "data": {
            "image/png": "[encoded data removed]",
            "text/plain": [
              "<Figure size 720x360 with 1 Axes>"
            ]
          },
          "metadata": {
            "tags": [],
            "needs_background": "light"
          }
        },
        {
          "output_type": "stream",
          "text": [
            "============================================================\n",
            "Predictions:\n",
            "----------------------------------------\n",
            "TRILL models:\n",
            "MER Electra TRILL (IEMOCAP): happy\n",
            "SER TRILL (IEMOCAP): angry\n",
            "SER TRILL (RAVDESS): happy\n",
            "----------------------------------------\n",
            "YAMNET models:\n",
            "MER Electra YAMNet (IEMOCAP): neutral\n",
            "SER YAMNet (IEMOCAP): happy\n",
            "SER YAMNet (RAVDESS): neutral\n",
            "----------------------------------------\n",
            "Only text - Electra small\n",
            "TER Electra small (IEMOCAP): happy\n",
            "TER Electra small (RAVDESS): fear\n",
            "============================================================\n",
            "********************************************************************************\n"
          ],
          "name": "stdout"
        }
      ]
    },
    {
      "cell_type": "code",
      "metadata": {
        "id": "66McRKEM_N5i"
      },
      "source": [
        ""
      ],
      "execution_count": null,
      "outputs": []
    }
  ]
}