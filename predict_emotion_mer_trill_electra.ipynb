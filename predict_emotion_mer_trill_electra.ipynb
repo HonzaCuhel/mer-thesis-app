{
  "nbformat": 4,
  "nbformat_minor": 0,
  "metadata": {
    "colab": {
      "name": "predict_emotion_mer_trill_electra.ipynb",
      "provenance": [],
      "collapsed_sections": [],
      "toc_visible": true
    },
    "kernelspec": {
      "name": "python3",
      "display_name": "Python 3"
    }
  },
  "cells": [
    {
      "cell_type": "markdown",
      "metadata": {
        "id": "coKAZLXvspj9"
      },
      "source": [
        "# Multimodal Speech Emotion Recognition\n",
        "<hr/>\n",
        "<b>Description:</b> This notebook contains a demo application of a Multimodal Speech Emotion Recognition model trained audios and texts on the IEMOCAP dataset using 4 basic emotions.<br/>\n",
        "<b>Model Architecture:</b> Electra small, TRILL, LSTM, Dense Layers<br/>\n",
        "<b>Author:</b> Jan Čuhel<br/>\n",
        "<b>Date:</b> 17.3.2021<br/>\n",
        "<b>Dataset:</b> IEMOCAP<br/>\n",
        "<b>Emotions:</b> Basic - [happy + excited, sad, angry, neutral]<br/>"
      ]
    },
    {
      "cell_type": "markdown",
      "metadata": {
        "id": "DHBgi40Tycgh"
      },
      "source": [
        "\n",
        "###Resources \n",
        "- https://ricardodeazambuja.com/deep_learning/2019/03/09/audio_and_video_google_colab/\n",
        "- https://stackoverflow.com/questions/9031783/hide-all-warnings-in-ipython\n",
        "- https://getemoji.com/\n",
        "- https://realpython.com/python-speech-recognition/\n",
        "- https://github.com/Uberi/speech_recognition#readme\n",
        "- https://www.howtogeek.com/423214/how-to-use-the-rename-command-on-linux/\n",
        "- https://git-lfs.github.com"
      ]
    },
    {
      "cell_type": "markdown",
      "metadata": {
        "id": "vj-Bbk2DyK1-"
      },
      "source": [
        "### Installation"
      ]
    },
    {
      "cell_type": "code",
      "metadata": {
        "id": "fFxcN_payKfL",
        "colab": {
          "base_uri": "https://localhost:8080/"
        },
        "outputId": "9f9a0c26-b79d-4b47-a4fe-8dc72ae4104a"
      },
      "source": [
        "!pip install -q ffmpeg-python SpeechRecognition gTTS pydub librosa tensorflow-text"
      ],
      "execution_count": null,
      "outputs": [
        {
          "output_type": "stream",
          "text": [
            "\u001b[K     |████████████████████████████████| 32.8MB 114kB/s \n",
            "\u001b[K     |████████████████████████████████| 3.4MB 51.4MB/s \n",
            "\u001b[?25h"
          ],
          "name": "stdout"
        }
      ]
    },
    {
      "cell_type": "markdown",
      "metadata": {
        "id": "ZzpQB2bhyNmI"
      },
      "source": [
        "### Connet to GitHub"
      ]
    },
    {
      "cell_type": "code",
      "metadata": {
        "colab": {
          "base_uri": "https://localhost:8080/"
        },
        "id": "x4WHsFxYuIho",
        "outputId": "b9312bc7-9abc-4948-c913-74c6e8bc569c"
      },
      "source": [
        "!git clone https://github.com/HonzaCuhel/mser-thesis-app.git"
      ],
      "execution_count": null,
      "outputs": [
        {
          "output_type": "stream",
          "text": [
            "Cloning into 'mser-thesis-app'...\n",
            "remote: Enumerating objects: 76, done.\u001b[K\n",
            "remote: Counting objects: 100% (76/76), done.\u001b[K\n",
            "remote: Compressing objects: 100% (63/63), done.\u001b[K\n",
            "remote: Total 76 (delta 28), reused 54 (delta 12), pack-reused 0\u001b[K\n",
            "Unpacking objects: 100% (76/76), done.\n"
          ],
          "name": "stdout"
        }
      ]
    },
    {
      "cell_type": "markdown",
      "metadata": {
        "id": "wqognJPvjrsw"
      },
      "source": [
        "### Download the model"
      ]
    },
    {
      "cell_type": "code",
      "metadata": {
        "colab": {
          "base_uri": "https://localhost:8080/"
        },
        "id": "ktVYqO43jrPs",
        "outputId": "33bc8f26-226c-4160-e396-22408e6518da"
      },
      "source": [
        "!wget 'https://github.com/HonzaCuhel/mser-thesis-app/blob/main/result_models/mer_trill_electra_small_model.h5?raw=true'\n",
        "!mv /content/mer_trill_electra_small_model.h5?raw=true /content/mser-thesis-app/result_models/mer_trill_electra_small_model.h5"
      ],
      "execution_count": null,
      "outputs": [
        {
          "output_type": "stream",
          "text": [
            "--2021-03-30 14:35:07--  https://github.com/HonzaCuhel/mser-thesis-app/blob/main/result_models/mer_trill_electra_small_model.h5?raw=true\n",
            "Resolving github.com (github.com)... 140.82.121.4\n",
            "Connecting to github.com (github.com)|140.82.121.4|:443... connected.\n",
            "HTTP request sent, awaiting response... 302 Found\n",
            "Location: https://github.com/HonzaCuhel/mser-thesis-app/raw/main/result_models/mer_trill_electra_small_model.h5 [following]\n",
            "--2021-03-30 14:35:07--  https://github.com/HonzaCuhel/mser-thesis-app/raw/main/result_models/mer_trill_electra_small_model.h5\n",
            "Reusing existing connection to github.com:443.\n",
            "HTTP request sent, awaiting response... 302 Found\n",
            "Location: https://media.githubusercontent.com/media/HonzaCuhel/mser-thesis-app/main/result_models/mer_trill_electra_small_model.h5 [following]\n",
            "--2021-03-30 14:35:07--  https://media.githubusercontent.com/media/HonzaCuhel/mser-thesis-app/main/result_models/mer_trill_electra_small_model.h5\n",
            "Resolving media.githubusercontent.com (media.githubusercontent.com)... 185.199.110.133, 185.199.108.133, 185.199.109.133, ...\n",
            "Connecting to media.githubusercontent.com (media.githubusercontent.com)|185.199.110.133|:443... connected.\n",
            "HTTP request sent, awaiting response... 200 OK\n",
            "Length: 205251808 (196M) [application/octet-stream]\n",
            "Saving to: ‘mer_trill_electra_small_model.h5?raw=true’\n",
            "\n",
            "mer_trill_electra_s 100%[===================>] 195.74M   208MB/s    in 0.9s    \n",
            "\n",
            "2021-03-30 14:35:13 (208 MB/s) - ‘mer_trill_electra_small_model.h5?raw=true’ saved [205251808/205251808]\n",
            "\n"
          ],
          "name": "stdout"
        }
      ]
    },
    {
      "cell_type": "markdown",
      "metadata": {
        "id": "fwAiE77ZQIIJ"
      },
      "source": [
        "### Imports"
      ]
    },
    {
      "cell_type": "code",
      "metadata": {
        "id": "n00MeETqutfK"
      },
      "source": [
        "import sys\n",
        "import matplotlib.pyplot as plt\n",
        "import speech_recognition as sr\n",
        "import gtts\n",
        "import IPython.display as display\n",
        "\n",
        "import warnings\n",
        "warnings.filterwarnings('ignore')\n",
        "\n",
        "sys.path.append('/content/mser-thesis-app/')\n",
        "from record_audio import get_audio\n",
        "from predict_emotion_tf import predict_emotion"
      ],
      "execution_count": null,
      "outputs": []
    },
    {
      "cell_type": "markdown",
      "metadata": {
        "id": "HJ156tsLQDNL"
      },
      "source": [
        "### Defining constants"
      ]
    },
    {
      "cell_type": "code",
      "metadata": {
        "id": "DaZZavv3QCok"
      },
      "source": [
        "lang = 'en'\n",
        "dur = 11\n",
        "emoji_dict = {\"happy\":\"😊\", \"fear\":\"😱\", \"angry\":\"😡\", \"sad\":\"😢\", \"disgust\":\"🤮\", \"shame\":\"😳\", \"guilt\":\"😓\", \"neutral\": \"😐\"}\n",
        "NO = 'no'"
      ],
      "execution_count": null,
      "outputs": []
    },
    {
      "cell_type": "markdown",
      "metadata": {
        "id": "5zCkOrk_QbwV"
      },
      "source": [
        "### Definition of functions"
      ]
    },
    {
      "cell_type": "code",
      "metadata": {
        "id": "ai4O4LxaQa77"
      },
      "source": [
        "def recognize_emotion(audio_file):\n",
        "  # use the audio file as the audio source\n",
        "  r = sr.Recognizer()\n",
        "  with sr.AudioFile(audio_file) as source:\n",
        "      audio = r.record(source, duration=dur)  # read the entire audio file\n",
        "  \n",
        "  # Resource: https://github.com/Uberi/speech_recognition/blob/master/examples/audio_transcribe.py\n",
        "  # Recognize speech using Google Speech Recognition\n",
        "  try:\n",
        "      text = r.recognize_google(audio, language=lang)\n",
        "  except sr.UnknownValueError:\n",
        "      print(\"Google Speech Recognition could not understand audio\")\n",
        "      return \"\"\n",
        "  except sr.RequestError as e:\n",
        "      print(\"Could not request results from Google Speech Recognition service; {0}\".format(e))\n",
        "      return \"\"\n",
        "\n",
        "  # Print what the user just has said\n",
        "  print(f'You\\'ve just said: {text}')\n",
        "  \n",
        "  # Return predicted emotion\n",
        "  return predict_emotion(text, audio_file)"
      ],
      "execution_count": null,
      "outputs": []
    },
    {
      "cell_type": "markdown",
      "metadata": {
        "id": "ETpnzv33QOzP"
      },
      "source": [
        "### Record a speech"
      ]
    },
    {
      "cell_type": "code",
      "metadata": {
        "colab": {
          "base_uri": "https://localhost:8080/",
          "height": 96
        },
        "id": "RPTSXUW9u3Ak",
        "outputId": "52a60bee-ccf3-4349-b6ff-973506759efb"
      },
      "source": [
        "audio, sample_rate, audio_file = get_audio()"
      ],
      "execution_count": null,
      "outputs": [
        {
          "output_type": "display_data",
          "data": {
            "text/html": [
              "\n",
              "<script>\n",
              "var my_div = document.createElement(\"DIV\");\n",
              "var my_p = document.createElement(\"P\");\n",
              "var my_btn = document.createElement(\"BUTTON\");\n",
              "var t = document.createTextNode(\"Press to start recording\");\n",
              "\n",
              "my_btn.appendChild(t);\n",
              "//my_p.appendChild(my_btn);\n",
              "my_div.appendChild(my_btn);\n",
              "document.body.appendChild(my_div);\n",
              "\n",
              "var base64data = 0;\n",
              "var reader;\n",
              "var recorder, gumStream;\n",
              "var recordButton = my_btn;\n",
              "\n",
              "var handleSuccess = function(stream) {\n",
              "  gumStream = stream;\n",
              "  var options = {\n",
              "    //bitsPerSecond: 8000, //chrome seems to ignore, always 48k\n",
              "    mimeType : 'audio/webm;codecs=opus'\n",
              "    //mimeType : 'audio/webm;codecs=pcm'\n",
              "  };            \n",
              "  //recorder = new MediaRecorder(stream, options);\n",
              "  recorder = new MediaRecorder(stream);\n",
              "  recorder.ondataavailable = function(e) {            \n",
              "    var url = URL.createObjectURL(e.data);\n",
              "    var preview = document.createElement('audio');\n",
              "    preview.controls = true;\n",
              "    preview.src = url;\n",
              "    document.body.appendChild(preview);\n",
              "\n",
              "    reader = new FileReader();\n",
              "    reader.readAsDataURL(e.data); \n",
              "    reader.onloadend = function() {\n",
              "      base64data = reader.result;\n",
              "      //console.log(\"Inside FileReader:\" + base64data);\n",
              "    }\n",
              "  };\n",
              "  recorder.start();\n",
              "  };\n",
              "\n",
              "recordButton.innerText = \"Recording... press to stop\";\n",
              "\n",
              "navigator.mediaDevices.getUserMedia({audio: true}).then(handleSuccess);\n",
              "\n",
              "\n",
              "function toggleRecording() {\n",
              "  if (recorder && recorder.state == \"recording\") {\n",
              "      recorder.stop();\n",
              "      gumStream.getAudioTracks()[0].stop();\n",
              "      recordButton.innerText = \"Saving the recording... pls wait!\"\n",
              "  }\n",
              "}\n",
              "\n",
              "// https://stackoverflow.com/a/951057\n",
              "function sleep(ms) {\n",
              "  return new Promise(resolve => setTimeout(resolve, ms));\n",
              "}\n",
              "\n",
              "var data = new Promise(resolve=>{\n",
              "//recordButton.addEventListener(\"click\", toggleRecording);\n",
              "recordButton.onclick = ()=>{\n",
              "toggleRecording()\n",
              "\n",
              "sleep(2000).then(() => {\n",
              "  // wait 2000ms for the data to be available...\n",
              "  // ideally this should use something like await...\n",
              "  //console.log(\"Inside data:\" + base64data)\n",
              "  resolve(base64data.toString())\n",
              "});\n",
              "}\n",
              "});\n",
              "      \n",
              "</script>\n"
            ],
            "text/plain": [
              "<IPython.core.display.HTML object>"
            ]
          },
          "metadata": {
            "tags": []
          }
        }
      ]
    },
    {
      "cell_type": "markdown",
      "metadata": {
        "id": "TA730O8iQUiJ"
      },
      "source": [
        "### Plot the audio's waveform"
      ]
    },
    {
      "cell_type": "code",
      "metadata": {
        "colab": {
          "base_uri": "https://localhost:8080/",
          "height": 592
        },
        "id": "vDsY7hN1q8Ji",
        "outputId": "b1b7ce06-2e30-4e30-c942-e0ea316618ad"
      },
      "source": [
        "plt.figure(figsize=(20,10))\n",
        "plt.plot(audio)\n",
        "plt.show()"
      ],
      "execution_count": null,
      "outputs": [
        {
          "output_type": "display_data",
          "data": {
            "image/png": "[encoded data removed]",
            "text/plain": [
              "<Figure size 1440x720 with 1 Axes>"
            ]
          },
          "metadata": {
            "tags": [],
            "needs_background": "light"
          }
        }
      ]
    },
    {
      "cell_type": "markdown",
      "metadata": {
        "id": "AhbvAYwJP2Ym"
      },
      "source": [
        "#### Emotion recognition"
      ]
    },
    {
      "cell_type": "code",
      "metadata": {
        "colab": {
          "base_uri": "https://localhost:8080/"
        },
        "id": "QJ7Fcv6WJx2A",
        "outputId": "c40f6242-6ec3-46a4-eed7-20985a0e0eac"
      },
      "source": [
        "print('Welcome to the Multimodal Speech Emotion Recognizer app from audio and text!')\n",
        "print('-'*80)\n",
        "print('Help:')\n",
        "print(' - record a speech and the program will recognize your emotion')\n",
        "# print(f' - to end the program type \"{NO}\"')\n",
        "\n",
        "print('Recognizing emotion...')\n",
        "# Recognize the emotion\n",
        "pred_emotion = recognize_emotion(audio_file)\n",
        "\n",
        "# Check whether the emotion is not empty string (= the recognition was not succesful)\n",
        "if pred_emotion == '':\n",
        "  print('Something went wrong... Try again, please...')\n",
        "else:\n",
        "  # Display the results\n",
        "  # display_prediction(pred_emotion)\n",
        "  print(f'\\nPredicted emotion: {pred_emotion} {emoji_dict[pred_emotion]}')\n",
        "\n",
        "print('='*60)"
      ],
      "execution_count": null,
      "outputs": [
        {
          "output_type": "stream",
          "text": [
            "Welcome to the Multimodal Speech Emotion Recognizer app from audio and text!\n",
            "--------------------------------------------------------------------------------\n",
            "Help:\n",
            " - record a speech and the program will recognize your emotion\n",
            "Recognizing emotion...\n",
            "You've just said: hey man I just want to read it you look hand\n",
            "WARNING:tensorflow:11 out of the last 11 calls to <function recreate_function.<locals>.restored_function_body at 0x7f6ca14d0710> triggered tf.function retracing. Tracing is expensive and the excessive number of tracings could be due to (1) creating @tf.function repeatedly in a loop, (2) passing tensors with different shapes, (3) passing Python objects instead of tensors. For (1), please define your @tf.function outside of the loop. For (2), @tf.function has experimental_relax_shapes=True option that relaxes argument shapes that can avoid unnecessary retracing. For (3), please refer to https://www.tensorflow.org/guide/function#controlling_retracing and https://www.tensorflow.org/api_docs/python/tf/function for  more details.\n"
          ],
          "name": "stdout"
        },
        {
          "output_type": "stream",
          "text": [
            "WARNING:tensorflow:11 out of the last 11 calls to <function recreate_function.<locals>.restored_function_body at 0x7f6ca14d0710> triggered tf.function retracing. Tracing is expensive and the excessive number of tracings could be due to (1) creating @tf.function repeatedly in a loop, (2) passing tensors with different shapes, (3) passing Python objects instead of tensors. For (1), please define your @tf.function outside of the loop. For (2), @tf.function has experimental_relax_shapes=True option that relaxes argument shapes that can avoid unnecessary retracing. For (3), please refer to https://www.tensorflow.org/guide/function#controlling_retracing and https://www.tensorflow.org/api_docs/python/tf/function for  more details.\n"
          ],
          "name": "stderr"
        },
        {
          "output_type": "stream",
          "text": [
            "WARNING:tensorflow:11 out of the last 11 calls to <function recreate_function.<locals>.restored_function_body at 0x7f6ca506b950> triggered tf.function retracing. Tracing is expensive and the excessive number of tracings could be due to (1) creating @tf.function repeatedly in a loop, (2) passing tensors with different shapes, (3) passing Python objects instead of tensors. For (1), please define your @tf.function outside of the loop. For (2), @tf.function has experimental_relax_shapes=True option that relaxes argument shapes that can avoid unnecessary retracing. For (3), please refer to https://www.tensorflow.org/guide/function#controlling_retracing and https://www.tensorflow.org/api_docs/python/tf/function for  more details.\n"
          ],
          "name": "stdout"
        },
        {
          "output_type": "stream",
          "text": [
            "WARNING:tensorflow:11 out of the last 11 calls to <function recreate_function.<locals>.restored_function_body at 0x7f6ca506b950> triggered tf.function retracing. Tracing is expensive and the excessive number of tracings could be due to (1) creating @tf.function repeatedly in a loop, (2) passing tensors with different shapes, (3) passing Python objects instead of tensors. For (1), please define your @tf.function outside of the loop. For (2), @tf.function has experimental_relax_shapes=True option that relaxes argument shapes that can avoid unnecessary retracing. For (3), please refer to https://www.tensorflow.org/guide/function#controlling_retracing and https://www.tensorflow.org/api_docs/python/tf/function for  more details.\n"
          ],
          "name": "stderr"
        },
        {
          "output_type": "stream",
          "text": [
            "WARNING:tensorflow:11 out of the last 11 calls to <function recreate_function.<locals>.restored_function_body at 0x7f6ca11ba680> triggered tf.function retracing. Tracing is expensive and the excessive number of tracings could be due to (1) creating @tf.function repeatedly in a loop, (2) passing tensors with different shapes, (3) passing Python objects instead of tensors. For (1), please define your @tf.function outside of the loop. For (2), @tf.function has experimental_relax_shapes=True option that relaxes argument shapes that can avoid unnecessary retracing. For (3), please refer to https://www.tensorflow.org/guide/function#controlling_retracing and https://www.tensorflow.org/api_docs/python/tf/function for  more details.\n"
          ],
          "name": "stdout"
        },
        {
          "output_type": "stream",
          "text": [
            "WARNING:tensorflow:11 out of the last 11 calls to <function recreate_function.<locals>.restored_function_body at 0x7f6ca11ba680> triggered tf.function retracing. Tracing is expensive and the excessive number of tracings could be due to (1) creating @tf.function repeatedly in a loop, (2) passing tensors with different shapes, (3) passing Python objects instead of tensors. For (1), please define your @tf.function outside of the loop. For (2), @tf.function has experimental_relax_shapes=True option that relaxes argument shapes that can avoid unnecessary retracing. For (3), please refer to https://www.tensorflow.org/guide/function#controlling_retracing and https://www.tensorflow.org/api_docs/python/tf/function for  more details.\n"
          ],
          "name": "stderr"
        },
        {
          "output_type": "stream",
          "text": [
            "WARNING:tensorflow:11 out of the last 11 calls to <function recreate_function.<locals>.restored_function_body at 0x7f6ca11d5f80> triggered tf.function retracing. Tracing is expensive and the excessive number of tracings could be due to (1) creating @tf.function repeatedly in a loop, (2) passing tensors with different shapes, (3) passing Python objects instead of tensors. For (1), please define your @tf.function outside of the loop. For (2), @tf.function has experimental_relax_shapes=True option that relaxes argument shapes that can avoid unnecessary retracing. For (3), please refer to https://www.tensorflow.org/guide/function#controlling_retracing and https://www.tensorflow.org/api_docs/python/tf/function for  more details.\n"
          ],
          "name": "stdout"
        },
        {
          "output_type": "stream",
          "text": [
            "WARNING:tensorflow:11 out of the last 11 calls to <function recreate_function.<locals>.restored_function_body at 0x7f6ca11d5f80> triggered tf.function retracing. Tracing is expensive and the excessive number of tracings could be due to (1) creating @tf.function repeatedly in a loop, (2) passing tensors with different shapes, (3) passing Python objects instead of tensors. For (1), please define your @tf.function outside of the loop. For (2), @tf.function has experimental_relax_shapes=True option that relaxes argument shapes that can avoid unnecessary retracing. For (3), please refer to https://www.tensorflow.org/guide/function#controlling_retracing and https://www.tensorflow.org/api_docs/python/tf/function for  more details.\n"
          ],
          "name": "stderr"
        },
        {
          "output_type": "stream",
          "text": [
            "WARNING:tensorflow:11 out of the last 11 calls to <function recreate_function.<locals>.restored_function_body at 0x7f6ca28373b0> triggered tf.function retracing. Tracing is expensive and the excessive number of tracings could be due to (1) creating @tf.function repeatedly in a loop, (2) passing tensors with different shapes, (3) passing Python objects instead of tensors. For (1), please define your @tf.function outside of the loop. For (2), @tf.function has experimental_relax_shapes=True option that relaxes argument shapes that can avoid unnecessary retracing. For (3), please refer to https://www.tensorflow.org/guide/function#controlling_retracing and https://www.tensorflow.org/api_docs/python/tf/function for  more details.\n"
          ],
          "name": "stdout"
        },
        {
          "output_type": "stream",
          "text": [
            "WARNING:tensorflow:11 out of the last 11 calls to <function recreate_function.<locals>.restored_function_body at 0x7f6ca28373b0> triggered tf.function retracing. Tracing is expensive and the excessive number of tracings could be due to (1) creating @tf.function repeatedly in a loop, (2) passing tensors with different shapes, (3) passing Python objects instead of tensors. For (1), please define your @tf.function outside of the loop. For (2), @tf.function has experimental_relax_shapes=True option that relaxes argument shapes that can avoid unnecessary retracing. For (3), please refer to https://www.tensorflow.org/guide/function#controlling_retracing and https://www.tensorflow.org/api_docs/python/tf/function for  more details.\n"
          ],
          "name": "stderr"
        },
        {
          "output_type": "stream",
          "text": [
            "WARNING:tensorflow:7 out of the last 7 calls to <function Model.make_predict_function.<locals>.predict_function at 0x7f6ca2e55200> triggered tf.function retracing. Tracing is expensive and the excessive number of tracings could be due to (1) creating @tf.function repeatedly in a loop, (2) passing tensors with different shapes, (3) passing Python objects instead of tensors. For (1), please define your @tf.function outside of the loop. For (2), @tf.function has experimental_relax_shapes=True option that relaxes argument shapes that can avoid unnecessary retracing. For (3), please refer to https://www.tensorflow.org/guide/function#controlling_retracing and https://www.tensorflow.org/api_docs/python/tf/function for  more details.\n"
          ],
          "name": "stdout"
        },
        {
          "output_type": "stream",
          "text": [
            "WARNING:tensorflow:7 out of the last 7 calls to <function Model.make_predict_function.<locals>.predict_function at 0x7f6ca2e55200> triggered tf.function retracing. Tracing is expensive and the excessive number of tracings could be due to (1) creating @tf.function repeatedly in a loop, (2) passing tensors with different shapes, (3) passing Python objects instead of tensors. For (1), please define your @tf.function outside of the loop. For (2), @tf.function has experimental_relax_shapes=True option that relaxes argument shapes that can avoid unnecessary retracing. For (3), please refer to https://www.tensorflow.org/guide/function#controlling_retracing and https://www.tensorflow.org/api_docs/python/tf/function for  more details.\n"
          ],
          "name": "stderr"
        },
        {
          "output_type": "stream",
          "text": [
            "WARNING:tensorflow:11 out of the last 11 calls to <function recreate_function.<locals>.restored_function_body at 0x7f6ca14d0dd0> triggered tf.function retracing. Tracing is expensive and the excessive number of tracings could be due to (1) creating @tf.function repeatedly in a loop, (2) passing tensors with different shapes, (3) passing Python objects instead of tensors. For (1), please define your @tf.function outside of the loop. For (2), @tf.function has experimental_relax_shapes=True option that relaxes argument shapes that can avoid unnecessary retracing. For (3), please refer to https://www.tensorflow.org/guide/function#controlling_retracing and https://www.tensorflow.org/api_docs/python/tf/function for  more details.\n"
          ],
          "name": "stdout"
        },
        {
          "output_type": "stream",
          "text": [
            "WARNING:tensorflow:11 out of the last 11 calls to <function recreate_function.<locals>.restored_function_body at 0x7f6ca14d0dd0> triggered tf.function retracing. Tracing is expensive and the excessive number of tracings could be due to (1) creating @tf.function repeatedly in a loop, (2) passing tensors with different shapes, (3) passing Python objects instead of tensors. For (1), please define your @tf.function outside of the loop. For (2), @tf.function has experimental_relax_shapes=True option that relaxes argument shapes that can avoid unnecessary retracing. For (3), please refer to https://www.tensorflow.org/guide/function#controlling_retracing and https://www.tensorflow.org/api_docs/python/tf/function for  more details.\n"
          ],
          "name": "stderr"
        },
        {
          "output_type": "stream",
          "text": [
            "\n",
            "Predicted emotion: happy 😊\n",
            "============================================================\n"
          ],
          "name": "stdout"
        }
      ]
    },
    {
      "cell_type": "markdown",
      "metadata": {
        "id": "JUHmdj8nPytt"
      },
      "source": [
        "#### Audio output"
      ]
    },
    {
      "cell_type": "code",
      "metadata": {
        "colab": {
          "base_uri": "https://localhost:8080/",
          "height": 75
        },
        "id": "mhlVyWoaM-5O",
        "outputId": "6011720c-26de-4578-aa08-7d0dfd2af8d7"
      },
      "source": [
        "# make request to google to get synthesis\n",
        "tts = gtts.gTTS(f'You are {pred_emotion}', lang=lang)\n",
        "\n",
        "output_file = 'output_emotion.mp3'\n",
        "tts.save(output_file)\n",
        "\n",
        "# Play it\n",
        "display.Audio(output_file, autoplay=False)"
      ],
      "execution_count": null,
      "outputs": [
        {
          "output_type": "execute_result",
          "data": {
            "text/html": [
              "\n",
              "                <audio controls=\"controls\" >\n",
              "                    <source src=\"data:audio/mpeg;base64,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\" type=\"audio/mpeg\" />\n",
              "                    Your browser does not support the audio element.\n",
              "                </audio>\n",
              "              "
            ],
            "text/plain": [
              "<IPython.lib.display.Audio object>"
            ]
          },
          "metadata": {
            "tags": []
          },
          "execution_count": 34
        }
      ]
    },
    {
      "cell_type": "code",
      "metadata": {
        "id": "CleIaKi0PNLk"
      },
      "source": [
        ""
      ],
      "execution_count": null,
      "outputs": []
    }
  ]
}